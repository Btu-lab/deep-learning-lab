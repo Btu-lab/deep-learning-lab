{
 "cells": [
  {
   "cell_type": "code",
   "execution_count": 18,
   "metadata": {},
   "outputs": [],
   "source": [
    "import numpy as np\n",
    "import keras\n",
    "import tensorflow as tf\n",
    "from keras import layers\n",
    "\n",
    "max_features = 20000  \n",
    "maxlen = 200  "
   ]
  },
  {
   "cell_type": "code",
   "execution_count": 19,
   "metadata": {},
   "outputs": [
    {
     "name": "stdout",
     "output_type": "stream",
     "text": [
      "Model: \"model_2\"\n",
      "_________________________________________________________________\n",
      " Layer (type)                Output Shape              Param #   \n",
      "=================================================================\n",
      " input_5 (InputLayer)        [(None, None)]            0         \n",
      "                                                                 \n",
      " embedding_4 (Embedding)     (None, None, 128)         2560000   \n",
      "                                                                 \n",
      " lstm_8 (LSTM)               (None, None, 64)          49408     \n",
      "                                                                 \n",
      " lstm_9 (LSTM)               (None, 64)                33024     \n",
      "                                                                 \n",
      " dense_2 (Dense)             (None, 1)                 65        \n",
      "                                                                 \n",
      "=================================================================\n",
      "Total params: 2,642,497\n",
      "Trainable params: 2,642,497\n",
      "Non-trainable params: 0\n",
      "_________________________________________________________________\n"
     ]
    }
   ],
   "source": [
    "\n",
    "inputs = keras.Input(shape=(None,), dtype=\"int32\")\n",
    "x = layers.Embedding(max_features, 128)(inputs)\n",
    "x = layers.LSTM(64,return_sequences=True)(x)\n",
    "x = layers.LSTM(64)(x)\n",
    "outputs = layers.Dense(1, activation=\"sigmoid\")(x)\n",
    "model = keras.Model(inputs, outputs)\n",
    "model.summary()"
   ]
  },
  {
   "cell_type": "code",
   "execution_count": 20,
   "metadata": {
    "tags": []
   },
   "outputs": [
    {
     "name": "stdout",
     "output_type": "stream",
     "text": [
      "25000 Training sequences\n",
      "25000 Validation sequences\n"
     ]
    }
   ],
   "source": [
    "(x_train, y_train), (x_val, y_val) = tf.keras.datasets.imdb.load_data(\n",
    "    num_words=max_features\n",
    ")\n",
    "print(len(x_train), \"Training sequences\")\n",
    "print(len(x_val), \"Validation sequences\")\n",
    "\n",
    "x_train = keras.utils.pad_sequences(x_train, maxlen=maxlen)\n",
    "x_val = keras.utils.pad_sequences(x_val, maxlen=maxlen)"
   ]
  },
  {
   "cell_type": "code",
   "execution_count": 21,
   "metadata": {},
   "outputs": [
    {
     "name": "stdout",
     "output_type": "stream",
     "text": [
      "Epoch 1/3\n",
      "782/782 [==============================] - 150s 188ms/step - loss: 0.3821 - accuracy: 0.8290 - val_loss: 0.3326 - val_accuracy: 0.8664\n",
      "Epoch 2/3\n",
      "782/782 [==============================] - 145s 185ms/step - loss: 0.2080 - accuracy: 0.9223 - val_loss: 0.3289 - val_accuracy: 0.8637\n",
      "Epoch 3/3\n",
      "782/782 [==============================] - 149s 191ms/step - loss: 0.1258 - accuracy: 0.9544 - val_loss: 0.4025 - val_accuracy: 0.8520\n"
     ]
    },
    {
     "data": {
      "text/plain": [
       "<keras.callbacks.History at 0x2218416e9c8>"
      ]
     },
     "execution_count": 21,
     "metadata": {},
     "output_type": "execute_result"
    }
   ],
   "source": [
    "model.compile(optimizer=\"adam\", loss=\"binary_crossentropy\", metrics=[\"accuracy\"])\n",
    "model.fit(x_train, y_train, batch_size=32, epochs=3, validation_data=(x_val, y_val))"
   ]
  },
  {
   "cell_type": "code",
   "execution_count": 22,
   "metadata": {},
   "outputs": [
    {
     "name": "stdout",
     "output_type": "stream",
     "text": [
      "Model: \"model_3\"\n",
      "_________________________________________________________________\n",
      " Layer (type)                Output Shape              Param #   \n",
      "=================================================================\n",
      " input_6 (InputLayer)        [(None, None)]            0         \n",
      "                                                                 \n",
      " embedding_5 (Embedding)     (None, None, 128)         2560000   \n",
      "                                                                 \n",
      " bidirectional_2 (Bidirectio  (None, None, 128)        98816     \n",
      " nal)                                                            \n",
      "                                                                 \n",
      " bidirectional_3 (Bidirectio  (None, 128)              98816     \n",
      " nal)                                                            \n",
      "                                                                 \n",
      " dense_3 (Dense)             (None, 1)                 129       \n",
      "                                                                 \n",
      "=================================================================\n",
      "Total params: 2,757,761\n",
      "Trainable params: 2,757,761\n",
      "Non-trainable params: 0\n",
      "_________________________________________________________________\n"
     ]
    }
   ],
   "source": [
    "\n",
    "inputs = keras.Input(shape=(None,), dtype=\"int32\")\n",
    "x = layers.Embedding(max_features, 128)(inputs)\n",
    "x = layers.Bidirectional(layers.LSTM(64, return_sequences=True))(x)\n",
    "x = layers.Bidirectional(layers.LSTM(64))(x)\n",
    "outputs = layers.Dense(1, activation=\"sigmoid\")(x)\n",
    "model = keras.Model(inputs, outputs)\n",
    "model.summary()"
   ]
  },
  {
   "cell_type": "code",
   "execution_count": 24,
   "metadata": {
    "tags": []
   },
   "outputs": [
    {
     "name": "stdout",
     "output_type": "stream",
     "text": [
      "Epoch 1/3\n",
      "782/782 [==============================] - 269s 337ms/step - loss: 0.3982 - accuracy: 0.8179 - val_loss: 0.3588 - val_accuracy: 0.8512\n",
      "Epoch 2/3\n",
      "782/782 [==============================] - 437s 559ms/step - loss: 0.2158 - accuracy: 0.9172 - val_loss: 0.3467 - val_accuracy: 0.8542\n",
      "Epoch 3/3\n",
      "782/782 [==============================] - 604s 773ms/step - loss: 0.1295 - accuracy: 0.9554 - val_loss: 0.3630 - val_accuracy: 0.8597\n"
     ]
    },
    {
     "data": {
      "text/plain": [
       "<keras.callbacks.History at 0x2218d532d88>"
      ]
     },
     "execution_count": 24,
     "metadata": {},
     "output_type": "execute_result"
    }
   ],
   "source": [
    "model.compile(optimizer=\"adam\", loss=\"binary_crossentropy\", metrics=[\"accuracy\"])\n",
    "model.fit(x_train, y_train, batch_size=32, epochs=3, validation_data=(x_val, y_val))"
   ]
  },
  {
   "cell_type": "code",
   "execution_count": 25,
   "metadata": {},
   "outputs": [],
   "source": [
    "\n",
    "import numpy as np\n",
    "import pandas as pd\n",
    "import seaborn as sns\n",
    "import matplotlib.pyplot as plt\n",
    "from wordcloud import WordCloud, STOPWORDS, ImageColorGenerator\n",
    "%matplotlib inline\n",
    "from sklearn.model_selection import train_test_split\n",
    "import tensorflow as tf\n",
    "from tensorflow.keras.preprocessing.text import Tokenizer\n",
    "from tensorflow.keras.preprocessing.sequence import pad_sequences\n",
    "from tensorflow.keras.callbacks import EarlyStopping\n",
    "from tensorflow.keras.models import Sequential\n",
    "from tensorflow.keras.layers import LSTM, GRU, Dense, Embedding, Dropout, GlobalAveragePooling1D, Flatten, SpatialDropout1D, Bidirectional"
   ]
  },
  {
   "cell_type": "code",
   "execution_count": 26,
   "metadata": {},
   "outputs": [
    {
     "data": {
      "text/html": [
       "<div>\n",
       "<style scoped>\n",
       "    .dataframe tbody tr th:only-of-type {\n",
       "        vertical-align: middle;\n",
       "    }\n",
       "\n",
       "    .dataframe tbody tr th {\n",
       "        vertical-align: top;\n",
       "    }\n",
       "\n",
       "    .dataframe thead th {\n",
       "        text-align: right;\n",
       "    }\n",
       "</style>\n",
       "<table border=\"1\" class=\"dataframe\">\n",
       "  <thead>\n",
       "    <tr style=\"text-align: right;\">\n",
       "      <th></th>\n",
       "      <th>label</th>\n",
       "      <th>message</th>\n",
       "    </tr>\n",
       "  </thead>\n",
       "  <tbody>\n",
       "    <tr>\n",
       "      <th>0</th>\n",
       "      <td>ham</td>\n",
       "      <td>Go until jurong point, crazy.. Available only ...</td>\n",
       "    </tr>\n",
       "    <tr>\n",
       "      <th>1</th>\n",
       "      <td>ham</td>\n",
       "      <td>Ok lar... Joking wif u oni...</td>\n",
       "    </tr>\n",
       "    <tr>\n",
       "      <th>2</th>\n",
       "      <td>spam</td>\n",
       "      <td>Free entry in 2 a wkly comp to win FA Cup fina...</td>\n",
       "    </tr>\n",
       "    <tr>\n",
       "      <th>3</th>\n",
       "      <td>ham</td>\n",
       "      <td>U dun say so early hor... U c already then say...</td>\n",
       "    </tr>\n",
       "    <tr>\n",
       "      <th>4</th>\n",
       "      <td>ham</td>\n",
       "      <td>Nah I don't think he goes to usf, he lives aro...</td>\n",
       "    </tr>\n",
       "  </tbody>\n",
       "</table>\n",
       "</div>"
      ],
      "text/plain": [
       "  label                                            message\n",
       "0   ham  Go until jurong point, crazy.. Available only ...\n",
       "1   ham                      Ok lar... Joking wif u oni...\n",
       "2  spam  Free entry in 2 a wkly comp to win FA Cup fina...\n",
       "3   ham  U dun say so early hor... U c already then say...\n",
       "4   ham  Nah I don't think he goes to usf, he lives aro..."
      ]
     },
     "execution_count": 26,
     "metadata": {},
     "output_type": "execute_result"
    }
   ],
   "source": [
    "df = pd.read_csv('https://raw.githubusercontent.com/kenneth-lee-ch/SMS-Spam-Classification/master/spam.csv', encoding='ISO-8859-1')\n",
    "df = df[['v1','v2']]\n",
    "df.rename(columns={'v1':'label', 'v2':'message'}, inplace=True)\n",
    "df.head()"
   ]
  },
  {
   "cell_type": "code",
   "execution_count": 27,
   "metadata": {},
   "outputs": [
    {
     "data": {
      "text/html": [
       "<div>\n",
       "<style scoped>\n",
       "    .dataframe tbody tr th:only-of-type {\n",
       "        vertical-align: middle;\n",
       "    }\n",
       "\n",
       "    .dataframe tbody tr th {\n",
       "        vertical-align: top;\n",
       "    }\n",
       "\n",
       "    .dataframe thead th {\n",
       "        text-align: right;\n",
       "    }\n",
       "</style>\n",
       "<table border=\"1\" class=\"dataframe\">\n",
       "  <thead>\n",
       "    <tr style=\"text-align: right;\">\n",
       "      <th></th>\n",
       "      <th>label</th>\n",
       "      <th>message</th>\n",
       "    </tr>\n",
       "  </thead>\n",
       "  <tbody>\n",
       "    <tr>\n",
       "      <th>count</th>\n",
       "      <td>5572</td>\n",
       "      <td>5572</td>\n",
       "    </tr>\n",
       "    <tr>\n",
       "      <th>unique</th>\n",
       "      <td>2</td>\n",
       "      <td>5169</td>\n",
       "    </tr>\n",
       "    <tr>\n",
       "      <th>top</th>\n",
       "      <td>ham</td>\n",
       "      <td>Sorry, I'll call later</td>\n",
       "    </tr>\n",
       "    <tr>\n",
       "      <th>freq</th>\n",
       "      <td>4825</td>\n",
       "      <td>30</td>\n",
       "    </tr>\n",
       "  </tbody>\n",
       "</table>\n",
       "</div>"
      ],
      "text/plain": [
       "       label                 message\n",
       "count   5572                    5572\n",
       "unique     2                    5169\n",
       "top      ham  Sorry, I'll call later\n",
       "freq    4825                      30"
      ]
     },
     "execution_count": 27,
     "metadata": {},
     "output_type": "execute_result"
    }
   ],
   "source": [
    "df.describe()"
   ]
  },
  {
   "cell_type": "code",
   "execution_count": 28,
   "metadata": {},
   "outputs": [
    {
     "data": {
      "text/html": [
       "<div>\n",
       "<style scoped>\n",
       "    .dataframe tbody tr th:only-of-type {\n",
       "        vertical-align: middle;\n",
       "    }\n",
       "\n",
       "    .dataframe tbody tr th {\n",
       "        vertical-align: top;\n",
       "    }\n",
       "\n",
       "    .dataframe thead th {\n",
       "        text-align: right;\n",
       "    }\n",
       "</style>\n",
       "<table border=\"1\" class=\"dataframe\">\n",
       "  <thead>\n",
       "    <tr style=\"text-align: right;\">\n",
       "      <th></th>\n",
       "      <th>label</th>\n",
       "      <th>message</th>\n",
       "      <th>text_length</th>\n",
       "      <th>msg_type</th>\n",
       "    </tr>\n",
       "  </thead>\n",
       "  <tbody>\n",
       "    <tr>\n",
       "      <th>0</th>\n",
       "      <td>ham</td>\n",
       "      <td>Go until jurong point, crazy.. Available only ...</td>\n",
       "      <td>111</td>\n",
       "      <td>0</td>\n",
       "    </tr>\n",
       "    <tr>\n",
       "      <th>1</th>\n",
       "      <td>ham</td>\n",
       "      <td>Ok lar... Joking wif u oni...</td>\n",
       "      <td>29</td>\n",
       "      <td>0</td>\n",
       "    </tr>\n",
       "    <tr>\n",
       "      <th>2</th>\n",
       "      <td>spam</td>\n",
       "      <td>Free entry in 2 a wkly comp to win FA Cup fina...</td>\n",
       "      <td>155</td>\n",
       "      <td>1</td>\n",
       "    </tr>\n",
       "    <tr>\n",
       "      <th>3</th>\n",
       "      <td>ham</td>\n",
       "      <td>U dun say so early hor... U c already then say...</td>\n",
       "      <td>49</td>\n",
       "      <td>0</td>\n",
       "    </tr>\n",
       "    <tr>\n",
       "      <th>4</th>\n",
       "      <td>ham</td>\n",
       "      <td>Nah I don't think he goes to usf, he lives aro...</td>\n",
       "      <td>61</td>\n",
       "      <td>0</td>\n",
       "    </tr>\n",
       "  </tbody>\n",
       "</table>\n",
       "</div>"
      ],
      "text/plain": [
       "  label                                            message  text_length  \\\n",
       "0   ham  Go until jurong point, crazy.. Available only ...          111   \n",
       "1   ham                      Ok lar... Joking wif u oni...           29   \n",
       "2  spam  Free entry in 2 a wkly comp to win FA Cup fina...          155   \n",
       "3   ham  U dun say so early hor... U c already then say...           49   \n",
       "4   ham  Nah I don't think he goes to usf, he lives aro...           61   \n",
       "\n",
       "   msg_type  \n",
       "0         0  \n",
       "1         0  \n",
       "2         1  \n",
       "3         0  \n",
       "4         0  "
      ]
     },
     "execution_count": 28,
     "metadata": {},
     "output_type": "execute_result"
    }
   ],
   "source": [
    "\n",
    "df['text_length'] = df['message'].apply(len)\n",
    "df['msg_type'] = df['label'].map({'ham':0, 'spam':1})\n",
    "label = df['msg_type'].values\n",
    "df.head()"
   ]
  },
  {
   "cell_type": "code",
   "execution_count": 29,
   "metadata": {},
   "outputs": [],
   "source": [
    "x_train, x_test, y_train, y_test = train_test_split(df['message'], label, test_size=0.2, random_state=434)"
   ]
  },
  {
   "cell_type": "code",
   "execution_count": 30,
   "metadata": {},
   "outputs": [],
   "source": [
    "\n",
    "max_len = 50 \n",
    "trunc_type = 'post'\n",
    "padding_type = 'post'\n",
    "oov_tok = '<OOV>'\n",
    "vocab_size = 500"
   ]
  },
  {
   "cell_type": "code",
   "execution_count": 31,
   "metadata": {},
   "outputs": [],
   "source": [
    "tokenizer = Tokenizer(num_words = vocab_size, \n",
    "                      char_level = False,\n",
    "                      oov_token = oov_tok)\n",
    "tokenizer.fit_on_texts(x_train)"
   ]
  },
  {
   "cell_type": "code",
   "execution_count": 32,
   "metadata": {},
   "outputs": [
    {
     "data": {
      "text/plain": [
       "8004"
      ]
     },
     "execution_count": 32,
     "metadata": {},
     "output_type": "execute_result"
    }
   ],
   "source": [
    "\n",
    "word_index = tokenizer.word_index\n",
    "total_words = len(word_index)\n",
    "total_words"
   ]
  },
  {
   "cell_type": "code",
   "execution_count": 33,
   "metadata": {},
   "outputs": [],
   "source": [
    "training_sequences = tokenizer.texts_to_sequences(x_train)\n",
    "training_padded = pad_sequences(training_sequences,\n",
    "                                maxlen = max_len,\n",
    "                                padding = padding_type,\n",
    "                                truncating = trunc_type)"
   ]
  },
  {
   "cell_type": "code",
   "execution_count": 34,
   "metadata": {},
   "outputs": [],
   "source": [
    "testing_sequences = tokenizer.texts_to_sequences(x_test)\n",
    "testing_padded = pad_sequences(testing_sequences,\n",
    "                               maxlen = max_len,\n",
    "                               padding = padding_type,\n",
    "                               truncating = trunc_type)"
   ]
  },
  {
   "cell_type": "code",
   "execution_count": 35,
   "metadata": {},
   "outputs": [
    {
     "name": "stdout",
     "output_type": "stream",
     "text": [
      "Shape of training tensor:  (4457, 50)\n",
      "Shape of testing tensor:  (1115, 50)\n"
     ]
    }
   ],
   "source": [
    "print('Shape of training tensor: ', training_padded.shape)\n",
    "print('Shape of testing tensor: ', testing_padded.shape)"
   ]
  },
  {
   "cell_type": "code",
   "execution_count": 37,
   "metadata": {},
   "outputs": [],
   "source": [
    "# Define parameter\n",
    "vocab_size = 500 \n",
    "embedding_dim = 16\n",
    "drop_value = 0.2\n",
    "n_dense = 24\n",
    "n_lstm = 128\n",
    "drop_lstm = 0.2 \n",
    "model1 = Sequential()\n",
    "model1.add(Embedding(vocab_size, embedding_dim, input_length=max_len))\n",
    "model1.add(SpatialDropout1D(drop_lstm))\n",
    "model1.add(LSTM(n_lstm, return_sequences=False))\n",
    "model1.add(Dropout(drop_lstm))\n",
    "model1.add(Dense(1, activation='sigmoid'))"
   ]
  },
  {
   "cell_type": "code",
   "execution_count": 38,
   "metadata": {},
   "outputs": [
    {
     "name": "stdout",
     "output_type": "stream",
     "text": [
      "Model: \"sequential_1\"\n",
      "_________________________________________________________________\n",
      " Layer (type)                Output Shape              Param #   \n",
      "=================================================================\n",
      " embedding_6 (Embedding)     (None, 50, 16)            8000      \n",
      "                                                                 \n",
      " spatial_dropout1d (SpatialD  (None, 50, 16)           0         \n",
      " ropout1D)                                                       \n",
      "                                                                 \n",
      " lstm_12 (LSTM)              (None, 128)               74240     \n",
      "                                                                 \n",
      " dropout (Dropout)           (None, 128)               0         \n",
      "                                                                 \n",
      " dense_4 (Dense)             (None, 1)                 129       \n",
      "                                                                 \n",
      "=================================================================\n",
      "Total params: 82,369\n",
      "Trainable params: 82,369\n",
      "Non-trainable params: 0\n",
      "_________________________________________________________________\n"
     ]
    }
   ],
   "source": [
    "model1.summary()"
   ]
  },
  {
   "cell_type": "code",
   "execution_count": 39,
   "metadata": {},
   "outputs": [],
   "source": [
    "model1.compile(loss = 'binary_crossentropy',\n",
    "               optimizer = 'adam',\n",
    "               metrics = ['accuracy'])"
   ]
  },
  {
   "cell_type": "code",
   "execution_count": 40,
   "metadata": {},
   "outputs": [
    {
     "name": "stdout",
     "output_type": "stream",
     "text": [
      "Epoch 1/30\n",
      "140/140 - 11s - loss: 0.2384 - accuracy: 0.9152 - val_loss: 0.1259 - val_accuracy: 0.9686 - 11s/epoch - 75ms/step\n",
      "Epoch 2/30\n",
      "140/140 - 8s - loss: 0.0744 - accuracy: 0.9798 - val_loss: 0.0833 - val_accuracy: 0.9731 - 8s/epoch - 57ms/step\n",
      "Epoch 3/30\n",
      "140/140 - 8s - loss: 0.0875 - accuracy: 0.9776 - val_loss: 0.1523 - val_accuracy: 0.9614 - 8s/epoch - 57ms/step\n",
      "Epoch 4/30\n",
      "140/140 - 8s - loss: 0.0588 - accuracy: 0.9870 - val_loss: 0.1007 - val_accuracy: 0.9731 - 8s/epoch - 57ms/step\n",
      "Epoch 5/30\n",
      "140/140 - 8s - loss: 0.0426 - accuracy: 0.9901 - val_loss: 0.1091 - val_accuracy: 0.9713 - 8s/epoch - 58ms/step\n",
      "Epoch 6/30\n",
      "140/140 - 8s - loss: 0.0367 - accuracy: 0.9919 - val_loss: 0.1183 - val_accuracy: 0.9731 - 8s/epoch - 59ms/step\n"
     ]
    }
   ],
   "source": [
    "num_epochs = 30\n",
    "early_stop = EarlyStopping(monitor='val_loss', patience=4)\n",
    "history = model1.fit(training_padded,\n",
    "                     y_train,\n",
    "                     epochs=num_epochs, \n",
    "                     validation_data=(testing_padded, y_test),\n",
    "                     callbacks =[early_stop],\n",
    "                     verbose=2)"
   ]
  },
  {
   "cell_type": "code",
   "execution_count": 41,
   "metadata": {},
   "outputs": [],
   "source": [
    "model2 = Sequential()\n",
    "model2.add(Embedding(vocab_size,\n",
    "                     embedding_dim,\n",
    "                     input_length = max_len))\n",
    "model2.add(Bidirectional(LSTM(n_lstm,\n",
    "                              return_sequences = False)))\n",
    "model2.add(Dropout(drop_lstm))\n",
    "model2.add(Dense(1, activation='sigmoid'))"
   ]
  },
  {
   "cell_type": "code",
   "execution_count": 42,
   "metadata": {},
   "outputs": [
    {
     "name": "stdout",
     "output_type": "stream",
     "text": [
      "Model: \"sequential_2\"\n",
      "_________________________________________________________________\n",
      " Layer (type)                Output Shape              Param #   \n",
      "=================================================================\n",
      " embedding_7 (Embedding)     (None, 50, 16)            8000      \n",
      "                                                                 \n",
      " bidirectional_4 (Bidirectio  (None, 256)              148480    \n",
      " nal)                                                            \n",
      "                                                                 \n",
      " dropout_1 (Dropout)         (None, 256)               0         \n",
      "                                                                 \n",
      " dense_5 (Dense)             (None, 1)                 257       \n",
      "                                                                 \n",
      "=================================================================\n",
      "Total params: 156,737\n",
      "Trainable params: 156,737\n",
      "Non-trainable params: 0\n",
      "_________________________________________________________________\n"
     ]
    }
   ],
   "source": [
    "model2.summary()"
   ]
  },
  {
   "cell_type": "code",
   "execution_count": 43,
   "metadata": {},
   "outputs": [],
   "source": [
    "model2.compile(loss = 'binary_crossentropy',\n",
    "               optimizer = 'adam',\n",
    "               metrics=['accuracy'])"
   ]
  },
  {
   "cell_type": "code",
   "execution_count": 44,
   "metadata": {},
   "outputs": [
    {
     "name": "stdout",
     "output_type": "stream",
     "text": [
      "Epoch 1/30\n",
      "140/140 - 13s - loss: 0.2046 - accuracy: 0.9349 - val_loss: 0.0830 - val_accuracy: 0.9731 - 13s/epoch - 92ms/step\n",
      "Epoch 2/30\n",
      "140/140 - 9s - loss: 0.0633 - accuracy: 0.9816 - val_loss: 0.0950 - val_accuracy: 0.9749 - 9s/epoch - 64ms/step\n",
      "Epoch 3/30\n",
      "140/140 - 9s - loss: 0.0908 - accuracy: 0.9731 - val_loss: 0.1193 - val_accuracy: 0.9632 - 9s/epoch - 65ms/step\n",
      "Epoch 4/30\n",
      "140/140 - 9s - loss: 0.0657 - accuracy: 0.9832 - val_loss: 0.1044 - val_accuracy: 0.9740 - 9s/epoch - 65ms/step\n",
      "Epoch 5/30\n",
      "140/140 - 9s - loss: 0.0483 - accuracy: 0.9868 - val_loss: 0.0904 - val_accuracy: 0.9776 - 9s/epoch - 65ms/step\n"
     ]
    }
   ],
   "source": [
    "num_epochs = 30\n",
    "early_stop = EarlyStopping(monitor = 'val_loss',\n",
    "                           patience = 4)\n",
    "history = model2.fit(training_padded,\n",
    "                     y_train,\n",
    "                     epochs = num_epochs,\n",
    "                     validation_data = (testing_padded, y_test),\n",
    "                     callbacks = [early_stop],\n",
    "                     verbose = 2)"
   ]
  },
  {
   "cell_type": "code",
   "execution_count": 45,
   "metadata": {},
   "outputs": [
    {
     "name": "stdout",
     "output_type": "stream",
     "text": [
      "Model: \"sequential_3\"\n",
      "_________________________________________________________________\n",
      " Layer (type)                Output Shape              Param #   \n",
      "=================================================================\n",
      " embedding_8 (Embedding)     (None, 50, 16)            8000      \n",
      "                                                                 \n",
      " spatial_dropout1d_1 (Spatia  (None, 50, 16)           0         \n",
      " lDropout1D)                                                     \n",
      "                                                                 \n",
      " gru (GRU)                   (None, 128)               56064     \n",
      "                                                                 \n",
      " dropout_2 (Dropout)         (None, 128)               0         \n",
      "                                                                 \n",
      " dense_6 (Dense)             (None, 1)                 129       \n",
      "                                                                 \n",
      "=================================================================\n",
      "Total params: 64,193\n",
      "Trainable params: 64,193\n",
      "Non-trainable params: 0\n",
      "_________________________________________________________________\n"
     ]
    }
   ],
   "source": [
    "model3 = Sequential()\n",
    "model3.add(Embedding(vocab_size,\n",
    "                     embedding_dim,\n",
    "                     input_length = max_len))\n",
    "model3.add(SpatialDropout1D(0.2))\n",
    "model3.add(GRU(128, return_sequences = False))\n",
    "model3.add(Dropout(0.2))\n",
    "model3.add(Dense(1, activation = 'sigmoid'))\n",
    "model3.summary()"
   ]
  },
  {
   "cell_type": "code",
   "execution_count": 46,
   "metadata": {},
   "outputs": [],
   "source": [
    "model3.compile(loss = 'binary_crossentropy',\n",
    "                       optimizer = 'adam',\n",
    "                       metrics=['accuracy'])"
   ]
  },
  {
   "cell_type": "code",
   "execution_count": 47,
   "metadata": {},
   "outputs": [
    {
     "name": "stdout",
     "output_type": "stream",
     "text": [
      "Epoch 1/30\n",
      "140/140 - 6s - loss: 0.4285 - accuracy: 0.8611 - val_loss: 0.3770 - val_accuracy: 0.8771 - 6s/epoch - 41ms/step\n",
      "Epoch 2/30\n",
      "140/140 - 3s - loss: 0.3490 - accuracy: 0.8690 - val_loss: 0.1540 - val_accuracy: 0.9462 - 3s/epoch - 24ms/step\n",
      "Epoch 3/30\n",
      "140/140 - 3s - loss: 0.0795 - accuracy: 0.9780 - val_loss: 0.0800 - val_accuracy: 0.9749 - 3s/epoch - 24ms/step\n",
      "Epoch 4/30\n",
      "140/140 - 3s - loss: 0.0486 - accuracy: 0.9865 - val_loss: 0.0717 - val_accuracy: 0.9812 - 3s/epoch - 24ms/step\n",
      "Epoch 5/30\n",
      "140/140 - 3s - loss: 0.0478 - accuracy: 0.9854 - val_loss: 0.0684 - val_accuracy: 0.9794 - 3s/epoch - 25ms/step\n",
      "Epoch 6/30\n",
      "140/140 - 3s - loss: 0.0369 - accuracy: 0.9890 - val_loss: 0.0677 - val_accuracy: 0.9821 - 3s/epoch - 24ms/step\n",
      "Epoch 7/30\n",
      "140/140 - 3s - loss: 0.0354 - accuracy: 0.9899 - val_loss: 0.0677 - val_accuracy: 0.9812 - 3s/epoch - 24ms/step\n",
      "Epoch 8/30\n",
      "140/140 - 3s - loss: 0.0268 - accuracy: 0.9928 - val_loss: 0.0747 - val_accuracy: 0.9803 - 3s/epoch - 25ms/step\n",
      "Epoch 9/30\n",
      "140/140 - 3s - loss: 0.0260 - accuracy: 0.9933 - val_loss: 0.0907 - val_accuracy: 0.9794 - 3s/epoch - 24ms/step\n",
      "Epoch 10/30\n",
      "140/140 - 4s - loss: 0.0212 - accuracy: 0.9948 - val_loss: 0.0598 - val_accuracy: 0.9821 - 4s/epoch - 25ms/step\n",
      "Epoch 11/30\n",
      "140/140 - 3s - loss: 0.0188 - accuracy: 0.9951 - val_loss: 0.0704 - val_accuracy: 0.9839 - 3s/epoch - 24ms/step\n",
      "Epoch 12/30\n",
      "140/140 - 3s - loss: 0.0193 - accuracy: 0.9937 - val_loss: 0.0688 - val_accuracy: 0.9839 - 3s/epoch - 24ms/step\n",
      "Epoch 13/30\n",
      "140/140 - 3s - loss: 0.0159 - accuracy: 0.9966 - val_loss: 0.0866 - val_accuracy: 0.9821 - 3s/epoch - 24ms/step\n",
      "Epoch 14/30\n",
      "140/140 - 3s - loss: 0.0247 - accuracy: 0.9924 - val_loss: 0.0875 - val_accuracy: 0.9812 - 3s/epoch - 24ms/step\n"
     ]
    }
   ],
   "source": [
    "num_epochs = 30\n",
    "early_stop = EarlyStopping(monitor='val_loss', patience=4)\n",
    "history = model3.fit(training_padded,\n",
    "                     y_train,\n",
    "                     epochs=num_epochs, \n",
    "                     validation_data=(testing_padded, y_test),\n",
    "                     callbacks =[early_stop],\n",
    "                     verbose=2)"
   ]
  },
  {
   "cell_type": "code",
   "execution_count": 48,
   "metadata": {},
   "outputs": [
    {
     "name": "stdout",
     "output_type": "stream",
     "text": [
      "35/35 [==============================] - 0s 12ms/step - loss: 0.1183 - accuracy: 0.9731\n",
      "LSTM model loss and accuracy: [0.11825458705425262, 0.9730941653251648] \n",
      "35/35 [==============================] - 1s 16ms/step - loss: 0.0904 - accuracy: 0.9776\n",
      "Bi-LSTM model loss and accuracy: [0.09035880863666534, 0.9775784611701965] \n",
      "35/35 [==============================] - 0s 9ms/step - loss: 0.0875 - accuracy: 0.9812\n",
      "GRU model loss and accuracy: [0.08745471388101578, 0.9811659455299377]\n"
     ]
    }
   ],
   "source": [
    "\n",
    "print(f\"LSTM model loss and accuracy: {model1.evaluate(testing_padded, y_test)} \" )\n",
    "print(f\"Bi-LSTM model loss and accuracy: {model2.evaluate(testing_padded, y_test)} \" )\n",
    "print(f\"GRU model loss and accuracy: {model3.evaluate(testing_padded, y_test)}\")"
   ]
  },
  {
   "cell_type": "code",
   "execution_count": 51,
   "metadata": {},
   "outputs": [
    {
     "name": "stdout",
     "output_type": "stream",
     "text": [
      "1/1 [==============================] - 0s 331ms/step\n"
     ]
    },
    {
     "data": {
      "text/plain": [
       "array([[0.00958992],\n",
       "       [0.00429714],\n",
       "       [0.99173695]], dtype=float32)"
      ]
     },
     "execution_count": 51,
     "metadata": {},
     "output_type": "execute_result"
    }
   ],
   "source": [
    "predict_msg = [\"Have friends and colleagues who could benefit from these weekly updates? Send them to this link to subscribe\",\"Call me\",\"Our records show you overpaid for (a product or service). Kindly supply your bank routing and account number to receive your refund.\"]\n",
    "def predict_spam(predict_msg):\n",
    "  new_seq = tokenizer.texts_to_sequences(predict_msg)\n",
    "  padded = pad_sequences(new_seq,\n",
    "                         maxlen = max_len,\n",
    "                         padding = padding_type,\n",
    "                         truncating = trunc_type)\n",
    "  return(model1.predict(padded))\n",
    "predict_spam(predict_msg)"
   ]
  },
  {
   "cell_type": "code",
   "execution_count": null,
   "metadata": {},
   "outputs": [],
   "source": []
  },
  {
   "cell_type": "code",
   "execution_count": null,
   "metadata": {},
   "outputs": [],
   "source": []
  }
 ],
 "metadata": {
  "kernelspec": {
   "display_name": "Python 3 (ipykernel)",
   "language": "python",
   "name": "python3"
  },
  "language_info": {
   "codemirror_mode": {
    "name": "ipython",
    "version": 3
   },
   "file_extension": ".py",
   "mimetype": "text/x-python",
   "name": "python",
   "nbconvert_exporter": "python",
   "pygments_lexer": "ipython3",
   "version": "3.7.16"
  }
 },
 "nbformat": 4,
 "nbformat_minor": 4
}
