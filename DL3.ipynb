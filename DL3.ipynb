{
 "cells": [
  {
   "cell_type": "code",
   "execution_count": 1,
   "id": "1bec3c9f-83ae-437a-bedb-94cd17fc12b5",
   "metadata": {},
   "outputs": [],
   "source": [
    "import numpy as np\n",
    "\n",
    "class Perceptron:\n",
    "    def __init__(self, learning_rate=0.01, n_epochs=10):\n",
    "\n",
    "        self.learning_rate = learning_rate\n",
    "        self.n_epochs = n_epochs\n",
    "        self.weights = None\n",
    "        self.bias = None\n",
    "\n",
    "    def fit(self, X, y):\n",
    "\n",
    "        self.weights = np.zeros(X.shape[1])  # Initialize weights with zeros\n",
    "        self.bias = 0\n",
    "\n",
    "        for _ in range(self.n_epochs):\n",
    "            for xi, target in zip(X, y):\n",
    "                # Calculate the predicted value\n",
    "                y_pred = self.predict(xi)\n",
    "\n",
    "                # Update weights and bias based on the error\n",
    "                error = target - y_pred\n",
    "                self.weights += self.learning_rate * error * xi\n",
    "                self.bias += self.learning_rate * error\n",
    "\n",
    "    def predict(self, x):\n",
    "\n",
    "        linear_combination = np.dot(x, self.weights) + self.bias\n",
    "        activation = np.where(linear_combination >= 0, 1, 0)  # Apply step activation function\n",
    "        return activation\n"
   ]
  },
  {
   "cell_type": "code",
   "execution_count": 2,
   "id": "6aa537a2-ff42-4bf9-a055-504880bdcb0f",
   "metadata": {},
   "outputs": [
    {
     "name": "stdout",
     "output_type": "stream",
     "text": [
      "Predicted labels: [1 1 0 0]\n",
      "Actual labels: [0 1 1 0]\n",
      "Accuracy: 0.5\n"
     ]
    }
   ],
   "source": [
    "\n",
    "X = np.array([[0, 0], \n",
    "              [1, 0], \n",
    "              [0, 1], \n",
    "              [1, 1]])\n",
    "y = np.array([0, 1, 1, 0])\n",
    "\n",
    "model = Perceptron()\n",
    "model.fit(X, y)\n",
    "\n",
    "y_pred = model.predict(X)\n",
    "print(\"Predicted labels:\", y_pred)\n",
    "print(\"Actual labels:\", y)\n",
    "print(\"Accuracy:\", np.mean(y_pred == y))"
   ]
  },
  {
   "cell_type": "code",
   "execution_count": 3,
   "id": "6bcc9667-8f75-4654-aee0-11d83b36e183",
   "metadata": {},
   "outputs": [
    {
     "name": "stdout",
     "output_type": "stream",
     "text": [
      "Predicted labels: [1 0 0 0]\n",
      "Actual labels: [1 0 0 1]\n",
      "Accuracy: 0.75\n"
     ]
    }
   ],
   "source": [
    "X = np.array([[0, 0,1,1,0], \n",
    "              [1, 0,1,0,1], \n",
    "              [0, 1,0,1,0], \n",
    "              [1, 1,1,1,0]])\n",
    "y = np.array([1, 0, 0, 1])\n",
    "\n",
    "model = Perceptron()\n",
    "model.fit(X, y)\n",
    "\n",
    "y_pred = model.predict(X)\n",
    "print(\"Predicted labels:\", y_pred)\n",
    "print(\"Actual labels:\", y)\n",
    "print(\"Accuracy:\", np.mean(y_pred == y))"
   ]
  },
  {
   "cell_type": "code",
   "execution_count": 4,
   "id": "5d10ba72-e345-4c64-aa9a-0a3fa5967a17",
   "metadata": {},
   "outputs": [
    {
     "name": "stdout",
     "output_type": "stream",
     "text": [
      "[1 0 0 0 1 1 0 0]\n",
      "Predicted labels: [0 0 0 0 1 1 0 0]\n",
      "Actual labels: [1 0 0 0 1 1 0 0]\n",
      "Accuracy: 0.875\n"
     ]
    }
   ],
   "source": [
    "X=np.array([[1.00,0.08,0.72,1.0],\n",
    "           [1.00,0.10,1.00,1.0],\n",
    "           [1.00,0.26,0.58,1.0],\n",
    "           [1.00,0.35,0.95,0.0],\n",
    "           [1.00,0.45,0.15,1.0],\n",
    "           [1.00,0.60,0.30,1.0],\n",
    "           [1.00,0.70,0.65,0.0],\n",
    "           [1.00,0.92,0.45,0.0]])\n",
    "\n",
    "y = np.array([1, 0, 0, 0,1,1,0,0])\n",
    "\n",
    "print(y)\n",
    "model = Perceptron()\n",
    "model.fit(X, y)\n",
    "\n",
    "y_pred = model.predict(X)\n",
    "print(\"Predicted labels:\", y_pred)\n",
    "print(\"Actual labels:\", y)\n",
    "print(\"Accuracy:\", np.mean(y_pred == y))"
   ]
  },
  {
   "cell_type": "code",
   "execution_count": 5,
   "id": "a8514778-3879-4bf8-8382-e03359f6e690",
   "metadata": {},
   "outputs": [],
   "source": [
    "#https://www.kaggle.com/c/titanic/data?select=test.csv"
   ]
  },
  {
   "cell_type": "code",
   "execution_count": 8,
   "id": "3e9ce91b-0643-499f-aa70-90f14bfd9579",
   "metadata": {},
   "outputs": [],
   "source": [
    "import pandas as pd\n",
    "df = pd.read_csv('smallDataset/train.csv', header=None)"
   ]
  },
  {
   "cell_type": "code",
   "execution_count": 9,
   "id": "17fd6861-9583-4b94-9348-a40aa30bfda7",
   "metadata": {},
   "outputs": [
    {
     "data": {
      "text/html": [
       "<div>\n",
       "<style scoped>\n",
       "    .dataframe tbody tr th:only-of-type {\n",
       "        vertical-align: middle;\n",
       "    }\n",
       "\n",
       "    .dataframe tbody tr th {\n",
       "        vertical-align: top;\n",
       "    }\n",
       "\n",
       "    .dataframe thead th {\n",
       "        text-align: right;\n",
       "    }\n",
       "</style>\n",
       "<table border=\"1\" class=\"dataframe\">\n",
       "  <thead>\n",
       "    <tr style=\"text-align: right;\">\n",
       "      <th></th>\n",
       "      <th>0</th>\n",
       "      <th>1</th>\n",
       "      <th>2</th>\n",
       "      <th>3</th>\n",
       "      <th>4</th>\n",
       "      <th>5</th>\n",
       "      <th>6</th>\n",
       "      <th>7</th>\n",
       "      <th>8</th>\n",
       "      <th>9</th>\n",
       "      <th>10</th>\n",
       "      <th>11</th>\n",
       "    </tr>\n",
       "  </thead>\n",
       "  <tbody>\n",
       "    <tr>\n",
       "      <th>0</th>\n",
       "      <td>PassengerId</td>\n",
       "      <td>Survived</td>\n",
       "      <td>Pclass</td>\n",
       "      <td>Name</td>\n",
       "      <td>Sex</td>\n",
       "      <td>Age</td>\n",
       "      <td>SibSp</td>\n",
       "      <td>Parch</td>\n",
       "      <td>Ticket</td>\n",
       "      <td>Fare</td>\n",
       "      <td>Cabin</td>\n",
       "      <td>Embarked</td>\n",
       "    </tr>\n",
       "    <tr>\n",
       "      <th>1</th>\n",
       "      <td>1</td>\n",
       "      <td>0</td>\n",
       "      <td>3</td>\n",
       "      <td>Braund, Mr. Owen Harris</td>\n",
       "      <td>male</td>\n",
       "      <td>22</td>\n",
       "      <td>1</td>\n",
       "      <td>0</td>\n",
       "      <td>A/5 21171</td>\n",
       "      <td>7.25</td>\n",
       "      <td>NaN</td>\n",
       "      <td>S</td>\n",
       "    </tr>\n",
       "    <tr>\n",
       "      <th>2</th>\n",
       "      <td>2</td>\n",
       "      <td>1</td>\n",
       "      <td>1</td>\n",
       "      <td>Cumings, Mrs. John Bradley (Florence Briggs Th...</td>\n",
       "      <td>female</td>\n",
       "      <td>38</td>\n",
       "      <td>1</td>\n",
       "      <td>0</td>\n",
       "      <td>PC 17599</td>\n",
       "      <td>71.2833</td>\n",
       "      <td>C85</td>\n",
       "      <td>C</td>\n",
       "    </tr>\n",
       "    <tr>\n",
       "      <th>3</th>\n",
       "      <td>3</td>\n",
       "      <td>1</td>\n",
       "      <td>3</td>\n",
       "      <td>Heikkinen, Miss. Laina</td>\n",
       "      <td>female</td>\n",
       "      <td>26</td>\n",
       "      <td>0</td>\n",
       "      <td>0</td>\n",
       "      <td>STON/O2. 3101282</td>\n",
       "      <td>7.925</td>\n",
       "      <td>NaN</td>\n",
       "      <td>S</td>\n",
       "    </tr>\n",
       "    <tr>\n",
       "      <th>4</th>\n",
       "      <td>4</td>\n",
       "      <td>1</td>\n",
       "      <td>1</td>\n",
       "      <td>Futrelle, Mrs. Jacques Heath (Lily May Peel)</td>\n",
       "      <td>female</td>\n",
       "      <td>35</td>\n",
       "      <td>1</td>\n",
       "      <td>0</td>\n",
       "      <td>113803</td>\n",
       "      <td>53.1</td>\n",
       "      <td>C123</td>\n",
       "      <td>S</td>\n",
       "    </tr>\n",
       "  </tbody>\n",
       "</table>\n",
       "</div>"
      ],
      "text/plain": [
       "            0         1       2   \\\n",
       "0  PassengerId  Survived  Pclass   \n",
       "1            1         0       3   \n",
       "2            2         1       1   \n",
       "3            3         1       3   \n",
       "4            4         1       1   \n",
       "\n",
       "                                                  3       4    5      6   \\\n",
       "0                                               Name     Sex  Age  SibSp   \n",
       "1                            Braund, Mr. Owen Harris    male   22      1   \n",
       "2  Cumings, Mrs. John Bradley (Florence Briggs Th...  female   38      1   \n",
       "3                             Heikkinen, Miss. Laina  female   26      0   \n",
       "4       Futrelle, Mrs. Jacques Heath (Lily May Peel)  female   35      1   \n",
       "\n",
       "      7                 8        9      10        11  \n",
       "0  Parch            Ticket     Fare  Cabin  Embarked  \n",
       "1      0         A/5 21171     7.25    NaN         S  \n",
       "2      0          PC 17599  71.2833    C85         C  \n",
       "3      0  STON/O2. 3101282    7.925    NaN         S  \n",
       "4      0            113803     53.1   C123         S  "
      ]
     },
     "execution_count": 9,
     "metadata": {},
     "output_type": "execute_result"
    }
   ],
   "source": [
    "df.head()"
   ]
  },
  {
   "cell_type": "code",
   "execution_count": 10,
   "id": "ce3f26d1-791c-4b2b-bdad-21b932d67aa1",
   "metadata": {},
   "outputs": [
    {
     "data": {
      "text/html": [
       "<div>\n",
       "<style scoped>\n",
       "    .dataframe tbody tr th:only-of-type {\n",
       "        vertical-align: middle;\n",
       "    }\n",
       "\n",
       "    .dataframe tbody tr th {\n",
       "        vertical-align: top;\n",
       "    }\n",
       "\n",
       "    .dataframe thead th {\n",
       "        text-align: right;\n",
       "    }\n",
       "</style>\n",
       "<table border=\"1\" class=\"dataframe\">\n",
       "  <thead>\n",
       "    <tr style=\"text-align: right;\">\n",
       "      <th></th>\n",
       "      <th>1</th>\n",
       "      <th>2</th>\n",
       "      <th>5</th>\n",
       "      <th>6</th>\n",
       "      <th>7</th>\n",
       "    </tr>\n",
       "  </thead>\n",
       "  <tbody>\n",
       "    <tr>\n",
       "      <th>0</th>\n",
       "      <td>Survived</td>\n",
       "      <td>Pclass</td>\n",
       "      <td>Age</td>\n",
       "      <td>SibSp</td>\n",
       "      <td>Parch</td>\n",
       "    </tr>\n",
       "    <tr>\n",
       "      <th>1</th>\n",
       "      <td>0</td>\n",
       "      <td>3</td>\n",
       "      <td>22</td>\n",
       "      <td>1</td>\n",
       "      <td>0</td>\n",
       "    </tr>\n",
       "    <tr>\n",
       "      <th>2</th>\n",
       "      <td>1</td>\n",
       "      <td>1</td>\n",
       "      <td>38</td>\n",
       "      <td>1</td>\n",
       "      <td>0</td>\n",
       "    </tr>\n",
       "    <tr>\n",
       "      <th>3</th>\n",
       "      <td>1</td>\n",
       "      <td>3</td>\n",
       "      <td>26</td>\n",
       "      <td>0</td>\n",
       "      <td>0</td>\n",
       "    </tr>\n",
       "    <tr>\n",
       "      <th>4</th>\n",
       "      <td>1</td>\n",
       "      <td>1</td>\n",
       "      <td>35</td>\n",
       "      <td>1</td>\n",
       "      <td>0</td>\n",
       "    </tr>\n",
       "  </tbody>\n",
       "</table>\n",
       "</div>"
      ],
      "text/plain": [
       "          1       2    5      6      7\n",
       "0  Survived  Pclass  Age  SibSp  Parch\n",
       "1         0       3   22      1      0\n",
       "2         1       1   38      1      0\n",
       "3         1       3   26      0      0\n",
       "4         1       1   35      1      0"
      ]
     },
     "execution_count": 10,
     "metadata": {},
     "output_type": "execute_result"
    }
   ],
   "source": [
    "df=df[[1,2,5,6,7]]\n",
    "df.head()"
   ]
  },
  {
   "cell_type": "code",
   "execution_count": 11,
   "id": "b0fd8c50-00a8-46f4-badb-8dbeaed0ed58",
   "metadata": {},
   "outputs": [],
   "source": [
    "df=df.drop(0,axis=0) \n",
    "df = df.dropna()"
   ]
  },
  {
   "cell_type": "code",
   "execution_count": 12,
   "id": "f3bd48dd-134d-4e76-9dac-2c6bec79ae7b",
   "metadata": {},
   "outputs": [
    {
     "data": {
      "text/plain": [
       "1    object\n",
       "2    object\n",
       "5    object\n",
       "6    object\n",
       "7    object\n",
       "dtype: object"
      ]
     },
     "execution_count": 12,
     "metadata": {},
     "output_type": "execute_result"
    }
   ],
   "source": [
    "df.dtypes"
   ]
  },
  {
   "cell_type": "code",
   "execution_count": 13,
   "id": "80545b04-c360-4e1d-b6c6-f4a6cc2dfcd9",
   "metadata": {},
   "outputs": [],
   "source": [
    "df=df.apply(pd.to_numeric)"
   ]
  },
  {
   "cell_type": "code",
   "execution_count": 14,
   "id": "6b538705-cf98-4122-8e68-01c6c01c08a7",
   "metadata": {},
   "outputs": [
    {
     "data": {
      "text/plain": [
       "1    int64\n",
       "2    int64\n",
       "5    int64\n",
       "6    int64\n",
       "7    int64\n",
       "dtype: object"
      ]
     },
     "execution_count": 14,
     "metadata": {},
     "output_type": "execute_result"
    }
   ],
   "source": [
    "df=df.astype('int64')\n",
    "df.dtypes"
   ]
  },
  {
   "cell_type": "code",
   "execution_count": 15,
   "id": "dd701403-08db-449e-a631-33a84c1fd523",
   "metadata": {},
   "outputs": [
    {
     "data": {
      "text/plain": [
       "1    0\n",
       "2    1\n",
       "3    1\n",
       "4    1\n",
       "5    0\n",
       "Name: 1, dtype: int64"
      ]
     },
     "execution_count": 15,
     "metadata": {},
     "output_type": "execute_result"
    }
   ],
   "source": [
    "y=df[1]\n",
    "y.head()"
   ]
  },
  {
   "cell_type": "code",
   "execution_count": 16,
   "id": "d6adb8ec-04ad-4b10-8d9f-3af88da43324",
   "metadata": {},
   "outputs": [
    {
     "data": {
      "text/html": [
       "<div>\n",
       "<style scoped>\n",
       "    .dataframe tbody tr th:only-of-type {\n",
       "        vertical-align: middle;\n",
       "    }\n",
       "\n",
       "    .dataframe tbody tr th {\n",
       "        vertical-align: top;\n",
       "    }\n",
       "\n",
       "    .dataframe thead th {\n",
       "        text-align: right;\n",
       "    }\n",
       "</style>\n",
       "<table border=\"1\" class=\"dataframe\">\n",
       "  <thead>\n",
       "    <tr style=\"text-align: right;\">\n",
       "      <th></th>\n",
       "      <th>2</th>\n",
       "      <th>5</th>\n",
       "      <th>6</th>\n",
       "      <th>7</th>\n",
       "    </tr>\n",
       "  </thead>\n",
       "  <tbody>\n",
       "    <tr>\n",
       "      <th>1</th>\n",
       "      <td>3</td>\n",
       "      <td>22</td>\n",
       "      <td>1</td>\n",
       "      <td>0</td>\n",
       "    </tr>\n",
       "    <tr>\n",
       "      <th>2</th>\n",
       "      <td>1</td>\n",
       "      <td>38</td>\n",
       "      <td>1</td>\n",
       "      <td>0</td>\n",
       "    </tr>\n",
       "    <tr>\n",
       "      <th>3</th>\n",
       "      <td>3</td>\n",
       "      <td>26</td>\n",
       "      <td>0</td>\n",
       "      <td>0</td>\n",
       "    </tr>\n",
       "    <tr>\n",
       "      <th>4</th>\n",
       "      <td>1</td>\n",
       "      <td>35</td>\n",
       "      <td>1</td>\n",
       "      <td>0</td>\n",
       "    </tr>\n",
       "    <tr>\n",
       "      <th>5</th>\n",
       "      <td>3</td>\n",
       "      <td>35</td>\n",
       "      <td>0</td>\n",
       "      <td>0</td>\n",
       "    </tr>\n",
       "  </tbody>\n",
       "</table>\n",
       "</div>"
      ],
      "text/plain": [
       "   2   5  6  7\n",
       "1  3  22  1  0\n",
       "2  1  38  1  0\n",
       "3  3  26  0  0\n",
       "4  1  35  1  0\n",
       "5  3  35  0  0"
      ]
     },
     "execution_count": 16,
     "metadata": {},
     "output_type": "execute_result"
    }
   ],
   "source": [
    "X=df[[2,5,6,7]]\n",
    "X.head()"
   ]
  },
  {
   "cell_type": "code",
   "execution_count": 18,
   "id": "a7ee265b-d6d8-454c-82cc-ecff27e5e838",
   "metadata": {},
   "outputs": [
    {
     "name": "stdout",
     "output_type": "stream",
     "text": [
      "Accuracy: 0.6022408963585434\n"
     ]
    }
   ],
   "source": [
    "X=np.array(X)\n",
    "y=np.array(y)\n",
    "\n",
    "model = Perceptron()\n",
    "model.fit(X, y)\n",
    "\n",
    "y_pred = model.predict(X)\n",
    "\n",
    "print(\"Accuracy:\", np.mean(y_pred == y))"
   ]
  },
  {
   "cell_type": "code",
   "execution_count": null,
   "id": "ed61c7b4-89b5-43dc-b851-443b22100f29",
   "metadata": {},
   "outputs": [],
   "source": []
  }
 ],
 "metadata": {
  "kernelspec": {
   "display_name": "Python 3 (ipykernel)",
   "language": "python",
   "name": "python3"
  },
  "language_info": {
   "codemirror_mode": {
    "name": "ipython",
    "version": 3
   },
   "file_extension": ".py",
   "mimetype": "text/x-python",
   "name": "python",
   "nbconvert_exporter": "python",
   "pygments_lexer": "ipython3",
   "version": "3.7.16"
  }
 },
 "nbformat": 4,
 "nbformat_minor": 5
}
